{
 "cells": [
  {
   "cell_type": "markdown",
   "metadata": {},
   "source": [
    "## 1. Load the dataset\n",
    "\n",
    "The dataset used in this example is [fine-food reviews](https://www.kaggle.com/snap/amazon-fine-food-reviews) from Amazon. The dataset contains a total of 568,454 food reviews Amazon users left up to October 2012. We will use a subset of this dataset, consisting of 1,000 most recent reviews for illustration purposes. The reviews are in English and tend to be positive or negative. Each review has a ProductId, UserId, Score, review title (Summary) and review body (Text).\n",
    "\n",
    "We will combine the review summary and review text into a single combined text. The model will encode this combined text and it will output a single vector embedding."
   ]
  },
  {
   "attachments": {},
   "cell_type": "markdown",
   "metadata": {},
   "source": [
    "To run this notebook, you will need to install: pandas, openai, transformers, plotly, matplotlib, scikit-learn, torch (transformer dep), torchvision, and scipy."
   ]
  },
  {
   "cell_type": "code",
   "execution_count": 1,
   "metadata": {
    "ExecuteTime": {
     "start_time": "2023-04-28T16:09:57.236314Z",
     "end_time": "2023-04-28T16:09:58.884157Z"
    }
   },
   "outputs": [],
   "source": [
    "# imports\n",
    "import pandas as pd\n",
    "import openai\n",
    "from openai.embeddings_utils import get_embedding\n",
    "\n",
    "openai.api_key = 'Your api key here'  # set your API key in your environment per the README:\n"
   ]
  },
  {
   "cell_type": "code",
   "execution_count": 2,
   "metadata": {
    "ExecuteTime": {
     "start_time": "2023-04-28T16:09:59.585637Z",
     "end_time": "2023-04-28T16:09:59.593145Z"
    }
   },
   "outputs": [],
   "source": [
    "# embedding model parameters\n",
    "embedding_model = \"text-embedding-ada-002\"\n",
    "embedding_encoding = \"cl100k_base\"  # this the encoding for text-embedding-ada-002\n",
    "max_tokens = 8000  # the maximum for text-embedding-ada-002 is 8191\n"
   ]
  },
  {
   "cell_type": "code",
   "execution_count": 3,
   "metadata": {
    "ExecuteTime": {
     "start_time": "2023-04-28T16:10:06.760205Z",
     "end_time": "2023-04-28T16:10:06.808322Z"
    }
   },
   "outputs": [
    {
     "data": {
      "text/plain": "         Time   ProductId          UserId  Score   \n0  1351123200  B003XPF9BO  A3R7JR3FMEBXQB      5  \\\n1  1351123200  B003JK537S  A3JBPC3WFUT5ZP      1   \n\n                                             Summary   \n0  where does one  start...and stop... with a tre...  \\\n1                                  Arrived in pieces   \n\n                                                Text   \n0  Wanted to save some to bring to my Chicago fam...  \\\n1  Not pleased at all. When I opened the box, mos...   \n\n                                            combined  \n0  Title: where does one  start...and stop... wit...  \n1  Title: Arrived in pieces; Content: Not pleased...  ",
      "text/html": "<div>\n<style scoped>\n    .dataframe tbody tr th:only-of-type {\n        vertical-align: middle;\n    }\n\n    .dataframe tbody tr th {\n        vertical-align: top;\n    }\n\n    .dataframe thead th {\n        text-align: right;\n    }\n</style>\n<table border=\"1\" class=\"dataframe\">\n  <thead>\n    <tr style=\"text-align: right;\">\n      <th></th>\n      <th>Time</th>\n      <th>ProductId</th>\n      <th>UserId</th>\n      <th>Score</th>\n      <th>Summary</th>\n      <th>Text</th>\n      <th>combined</th>\n    </tr>\n  </thead>\n  <tbody>\n    <tr>\n      <th>0</th>\n      <td>1351123200</td>\n      <td>B003XPF9BO</td>\n      <td>A3R7JR3FMEBXQB</td>\n      <td>5</td>\n      <td>where does one  start...and stop... with a tre...</td>\n      <td>Wanted to save some to bring to my Chicago fam...</td>\n      <td>Title: where does one  start...and stop... wit...</td>\n    </tr>\n    <tr>\n      <th>1</th>\n      <td>1351123200</td>\n      <td>B003JK537S</td>\n      <td>A3JBPC3WFUT5ZP</td>\n      <td>1</td>\n      <td>Arrived in pieces</td>\n      <td>Not pleased at all. When I opened the box, mos...</td>\n      <td>Title: Arrived in pieces; Content: Not pleased...</td>\n    </tr>\n  </tbody>\n</table>\n</div>"
     },
     "execution_count": 3,
     "metadata": {},
     "output_type": "execute_result"
    }
   ],
   "source": [
    "# load & inspect dataset\n",
    "input_datapath = \"data/fine_food_reviews_1k.csv\"  # to save space, we provide a pre-filtered dataset\n",
    "df = pd.read_csv(input_datapath, index_col=0)\n",
    "df = df[[\"Time\", \"ProductId\", \"UserId\", \"Score\", \"Summary\", \"Text\"]]\n",
    "df = df.dropna()\n",
    "df[\"combined\"] = (\n",
    "    \"Title: \" + df.Summary.str.strip() + \"; Content: \" + df.Text.str.strip()\n",
    ")\n",
    "df.head(2)\n"
   ]
  },
  {
   "cell_type": "code",
   "execution_count": 4,
   "outputs": [],
   "source": [
    "pd.options.mode.chained_assignment = None #https://pandas.pydata.org/pandas-docs/stable/user_guide/indexing.html#evaluation-order-matters\n",
    "import re\n",
    "# s is input text\n",
    "def normalize_text(s, sep_token = \" \\n \"):\n",
    "    s = re.sub(r'\\s+',  ' ', s).strip()\n",
    "    s = re.sub(r\". ,\",\"\",s)\n",
    "    # remove all instances of multiple spaces\n",
    "    s = s.replace(\"..\",\".\")\n",
    "    s = s.replace(\". .\",\".\")\n",
    "    s = s.replace(\"\\n\", \"\")\n",
    "    s = s.strip()\n",
    "\n",
    "    return s\n",
    "\n",
    "df['combined_norm']= df[\"combined\"].apply(lambda x : normalize_text(x))"
   ],
   "metadata": {
    "collapsed": false,
    "ExecuteTime": {
     "start_time": "2023-04-28T16:10:08.174754Z",
     "end_time": "2023-04-28T16:10:08.248906Z"
    }
   }
  },
  {
   "cell_type": "code",
   "execution_count": 5,
   "outputs": [
    {
     "data": {
      "text/plain": "         Time   ProductId          UserId  Score   \n0  1351123200  B003XPF9BO  A3R7JR3FMEBXQB      5  \\\n1  1351123200  B003JK537S  A3JBPC3WFUT5ZP      1   \n\n                                             Summary   \n0  where does one  start...and stop... with a tre...  \\\n1                                  Arrived in pieces   \n\n                                                Text   \n0  Wanted to save some to bring to my Chicago fam...  \\\n1  Not pleased at all. When I opened the box, mos...   \n\n                                            combined   \n0  Title: where does one  start...and stop... wit...  \\\n1  Title: Arrived in pieces; Content: Not pleased...   \n\n                                       combined_norm  \n0  Title: where does one start..and stop.. with a...  \n1  Title: Arrived in pieces; Content: Not pleased...  ",
      "text/html": "<div>\n<style scoped>\n    .dataframe tbody tr th:only-of-type {\n        vertical-align: middle;\n    }\n\n    .dataframe tbody tr th {\n        vertical-align: top;\n    }\n\n    .dataframe thead th {\n        text-align: right;\n    }\n</style>\n<table border=\"1\" class=\"dataframe\">\n  <thead>\n    <tr style=\"text-align: right;\">\n      <th></th>\n      <th>Time</th>\n      <th>ProductId</th>\n      <th>UserId</th>\n      <th>Score</th>\n      <th>Summary</th>\n      <th>Text</th>\n      <th>combined</th>\n      <th>combined_norm</th>\n    </tr>\n  </thead>\n  <tbody>\n    <tr>\n      <th>0</th>\n      <td>1351123200</td>\n      <td>B003XPF9BO</td>\n      <td>A3R7JR3FMEBXQB</td>\n      <td>5</td>\n      <td>where does one  start...and stop... with a tre...</td>\n      <td>Wanted to save some to bring to my Chicago fam...</td>\n      <td>Title: where does one  start...and stop... wit...</td>\n      <td>Title: where does one start..and stop.. with a...</td>\n    </tr>\n    <tr>\n      <th>1</th>\n      <td>1351123200</td>\n      <td>B003JK537S</td>\n      <td>A3JBPC3WFUT5ZP</td>\n      <td>1</td>\n      <td>Arrived in pieces</td>\n      <td>Not pleased at all. When I opened the box, mos...</td>\n      <td>Title: Arrived in pieces; Content: Not pleased...</td>\n      <td>Title: Arrived in pieces; Content: Not pleased...</td>\n    </tr>\n  </tbody>\n</table>\n</div>"
     },
     "execution_count": 5,
     "metadata": {},
     "output_type": "execute_result"
    }
   ],
   "source": [
    "df.head(2)"
   ],
   "metadata": {
    "collapsed": false,
    "ExecuteTime": {
     "start_time": "2023-04-28T16:10:09.608853Z",
     "end_time": "2023-04-28T16:10:09.642911Z"
    }
   }
  },
  {
   "cell_type": "code",
   "execution_count": 6,
   "metadata": {
    "ExecuteTime": {
     "start_time": "2023-04-28T16:12:04.707448Z",
     "end_time": "2023-04-28T16:12:07.497850Z"
    }
   },
   "outputs": [
    {
     "data": {
      "text/plain": "1000"
     },
     "execution_count": 6,
     "metadata": {},
     "output_type": "execute_result"
    }
   ],
   "source": [
    "import tiktoken\n",
    "# subsample to 1k most recent reviews and remove samples that are too long\n",
    "top_n = 1000\n",
    "df = df.sort_values(\"Time\").tail(top_n * 2)  # first cut to first 2k entries, assuming less than half will be filtered out\n",
    "df.drop(\"Time\", axis=1, inplace=True)\n",
    "\n",
    "encoding = tiktoken.get_encoding(embedding_encoding)\n",
    "\n",
    "# omit reviews that are too long to embed\n",
    "df[\"n_tokens\"] = df.combined_norm.apply(lambda x: len(encoding.encode(x)))\n",
    "df = df[df.n_tokens <= max_tokens].tail(top_n)\n",
    "len(df)\n"
   ]
  },
  {
   "cell_type": "markdown",
   "source": [
    "若要深入瞭解n_tokens資料行，以及文字最終如何標記化，執行下列程式碼會很有説明："
   ],
   "metadata": {
    "collapsed": false
   }
  },
  {
   "cell_type": "code",
   "execution_count": 16,
   "outputs": [
    {
     "data": {
      "text/plain": "[b'Title',\n b':',\n b' where',\n b' does',\n b' one',\n b' start',\n b'..',\n b'and',\n b' stop',\n b'..',\n b' with',\n b' a',\n b' treat',\n b' like',\n b' this',\n b';',\n b' Content',\n b':',\n b' Wanted',\n b' to',\n b' save',\n b' some',\n b' to',\n b' bring',\n b' to',\n b' my',\n b' Chicago',\n b' family',\n b' but',\n b' my',\n b' North',\n b' Carolina',\n b' family',\n b' ate',\n b' all',\n b' ',\n b'4',\n b' boxes',\n b' before',\n b' I',\n b' could',\n b' pack',\n b'.',\n b' These',\n b' are',\n b' excellent',\n b'..',\n b'could',\n b' serve',\n b' to',\n b' anyone']"
     },
     "execution_count": 16,
     "metadata": {},
     "output_type": "execute_result"
    }
   ],
   "source": [
    "sample_encode = encoding.encode(df.combined_norm[0])\n",
    "decode = encoding.decode_tokens_bytes(sample_encode)\n",
    "decode"
   ],
   "metadata": {
    "collapsed": false,
    "ExecuteTime": {
     "start_time": "2023-04-28T16:49:50.577009Z",
     "end_time": "2023-04-28T16:49:50.597573Z"
    }
   }
  },
  {
   "cell_type": "markdown",
   "source": [
    "如果您接著檢查變數的 decode 長度，您會發現它符合n_tokens資料行中的第一個數位。"
   ],
   "metadata": {
    "collapsed": false
   }
  },
  {
   "cell_type": "code",
   "execution_count": 17,
   "outputs": [
    {
     "data": {
      "text/plain": "51"
     },
     "execution_count": 17,
     "metadata": {},
     "output_type": "execute_result"
    }
   ],
   "source": [
    "len(decode)"
   ],
   "metadata": {
    "collapsed": false,
    "ExecuteTime": {
     "start_time": "2023-04-28T16:51:14.735879Z",
     "end_time": "2023-04-28T16:51:14.782980Z"
    }
   }
  },
  {
   "cell_type": "code",
   "execution_count": 7,
   "outputs": [
    {
     "data": {
      "text/plain": "      ProductId          UserId  Score   \n0    B003XPF9BO  A3R7JR3FMEBXQB      5  \\\n297  B003VXHGPK  A21VWSCGW7UUAR      4   \n\n                                               Summary   \n0    where does one  start...and stop... with a tre...  \\\n297                   Good, but not Wolfgang Puck good   \n\n                                                  Text   \n0    Wanted to save some to bring to my Chicago fam...  \\\n297  Honestly, I have to admit that I expected a li...   \n\n                                              combined   \n0    Title: where does one  start...and stop... wit...  \\\n297  Title: Good, but not Wolfgang Puck good; Conte...   \n\n                                         combined_norm  n_tokens  \n0    Title: where does one start..and stop.. with a...        51  \n297  Title: Good, but not Wolfgang Puck good; Conte...       178  ",
      "text/html": "<div>\n<style scoped>\n    .dataframe tbody tr th:only-of-type {\n        vertical-align: middle;\n    }\n\n    .dataframe tbody tr th {\n        vertical-align: top;\n    }\n\n    .dataframe thead th {\n        text-align: right;\n    }\n</style>\n<table border=\"1\" class=\"dataframe\">\n  <thead>\n    <tr style=\"text-align: right;\">\n      <th></th>\n      <th>ProductId</th>\n      <th>UserId</th>\n      <th>Score</th>\n      <th>Summary</th>\n      <th>Text</th>\n      <th>combined</th>\n      <th>combined_norm</th>\n      <th>n_tokens</th>\n    </tr>\n  </thead>\n  <tbody>\n    <tr>\n      <th>0</th>\n      <td>B003XPF9BO</td>\n      <td>A3R7JR3FMEBXQB</td>\n      <td>5</td>\n      <td>where does one  start...and stop... with a tre...</td>\n      <td>Wanted to save some to bring to my Chicago fam...</td>\n      <td>Title: where does one  start...and stop... wit...</td>\n      <td>Title: where does one start..and stop.. with a...</td>\n      <td>51</td>\n    </tr>\n    <tr>\n      <th>297</th>\n      <td>B003VXHGPK</td>\n      <td>A21VWSCGW7UUAR</td>\n      <td>4</td>\n      <td>Good, but not Wolfgang Puck good</td>\n      <td>Honestly, I have to admit that I expected a li...</td>\n      <td>Title: Good, but not Wolfgang Puck good; Conte...</td>\n      <td>Title: Good, but not Wolfgang Puck good; Conte...</td>\n      <td>178</td>\n    </tr>\n  </tbody>\n</table>\n</div>"
     },
     "execution_count": 7,
     "metadata": {},
     "output_type": "execute_result"
    }
   ],
   "source": [
    "df.head(2)"
   ],
   "metadata": {
    "collapsed": false,
    "ExecuteTime": {
     "start_time": "2023-04-28T16:17:45.298659Z",
     "end_time": "2023-04-28T16:17:45.306178Z"
    }
   }
  },
  {
   "attachments": {},
   "cell_type": "markdown",
   "metadata": {},
   "source": [
    "## 2. Get embeddings and save them for future reuse\n",
    "既然我們已深入瞭解權杖化的運作方式，我們可以繼續進行內嵌。 請務必注意，我們尚未實際將檔標記化。 資料 n_tokens 行只是一種確保我們傳遞至模型以進行權杖化且內嵌的資料都未超過輸入權杖限制 8，192 的方法。 當我們將檔傳遞至內嵌模型時，它會將檔分成類似 (的標記，但不一定與上述範例完全相同) ，然後將標記轉換成可透過向量搜尋存取的一系列浮點數。 這些內嵌可以儲存在本機或 Azure 資料庫中。 因此，每個帳單都會在 DataFrame 右側的新 embedding 資料行中有自己的對應內嵌向量。"
   ]
  },
  {
   "cell_type": "code",
   "execution_count": 8,
   "metadata": {
    "ExecuteTime": {
     "start_time": "2023-04-28T16:18:04.180473Z",
     "end_time": "2023-04-28T16:33:46.688113Z"
    }
   },
   "outputs": [],
   "source": [
    "# Ensure you have your API key set in your environment per the README: https://github.com/openai/openai-python#usage\n",
    "\n",
    "# This may take a few minutes\n",
    "df[\"embedding\"] = df.combined_norm.apply(lambda x: get_embedding(x, engine=embedding_model))\n",
    "df.to_csv(\"data/fine_food_reviews_with_embeddings_1k.csv\")\n"
   ]
  },
  {
   "cell_type": "code",
   "execution_count": 9,
   "outputs": [
    {
     "data": {
      "text/plain": "      ProductId          UserId  Score   \n0    B003XPF9BO  A3R7JR3FMEBXQB      5  \\\n297  B003VXHGPK  A21VWSCGW7UUAR      4   \n\n                                               Summary   \n0    where does one  start...and stop... with a tre...  \\\n297                   Good, but not Wolfgang Puck good   \n\n                                                  Text   \n0    Wanted to save some to bring to my Chicago fam...  \\\n297  Honestly, I have to admit that I expected a li...   \n\n                                              combined   \n0    Title: where does one  start...and stop... wit...  \\\n297  Title: Good, but not Wolfgang Puck good; Conte...   \n\n                                         combined_norm  n_tokens   \n0    Title: where does one start..and stop.. with a...        51  \\\n297  Title: Good, but not Wolfgang Puck good; Conte...       178   \n\n                                             embedding  \n0    [0.0065054260194301605, -0.028513578698039055,...  \n297  [-0.003428791416808963, -0.009930307045578957,...  ",
      "text/html": "<div>\n<style scoped>\n    .dataframe tbody tr th:only-of-type {\n        vertical-align: middle;\n    }\n\n    .dataframe tbody tr th {\n        vertical-align: top;\n    }\n\n    .dataframe thead th {\n        text-align: right;\n    }\n</style>\n<table border=\"1\" class=\"dataframe\">\n  <thead>\n    <tr style=\"text-align: right;\">\n      <th></th>\n      <th>ProductId</th>\n      <th>UserId</th>\n      <th>Score</th>\n      <th>Summary</th>\n      <th>Text</th>\n      <th>combined</th>\n      <th>combined_norm</th>\n      <th>n_tokens</th>\n      <th>embedding</th>\n    </tr>\n  </thead>\n  <tbody>\n    <tr>\n      <th>0</th>\n      <td>B003XPF9BO</td>\n      <td>A3R7JR3FMEBXQB</td>\n      <td>5</td>\n      <td>where does one  start...and stop... with a tre...</td>\n      <td>Wanted to save some to bring to my Chicago fam...</td>\n      <td>Title: where does one  start...and stop... wit...</td>\n      <td>Title: where does one start..and stop.. with a...</td>\n      <td>51</td>\n      <td>[0.0065054260194301605, -0.028513578698039055,...</td>\n    </tr>\n    <tr>\n      <th>297</th>\n      <td>B003VXHGPK</td>\n      <td>A21VWSCGW7UUAR</td>\n      <td>4</td>\n      <td>Good, but not Wolfgang Puck good</td>\n      <td>Honestly, I have to admit that I expected a li...</td>\n      <td>Title: Good, but not Wolfgang Puck good; Conte...</td>\n      <td>Title: Good, but not Wolfgang Puck good; Conte...</td>\n      <td>178</td>\n      <td>[-0.003428791416808963, -0.009930307045578957,...</td>\n    </tr>\n  </tbody>\n</table>\n</div>"
     },
     "execution_count": 9,
     "metadata": {},
     "output_type": "execute_result"
    }
   ],
   "source": [
    "df.head(2)"
   ],
   "metadata": {
    "collapsed": false,
    "ExecuteTime": {
     "start_time": "2023-04-28T16:40:47.820751Z",
     "end_time": "2023-04-28T16:40:47.858810Z"
    }
   }
  },
  {
   "cell_type": "code",
   "execution_count": 14,
   "outputs": [
    {
     "data": {
      "text/plain": "1536"
     },
     "execution_count": 14,
     "metadata": {},
     "output_type": "execute_result"
    }
   ],
   "source": [
    "len(df.embedding[0])"
   ],
   "metadata": {
    "collapsed": false,
    "ExecuteTime": {
     "start_time": "2023-04-28T16:41:49.187170Z",
     "end_time": "2023-04-28T16:41:49.196688Z"
    }
   }
  },
  {
   "cell_type": "markdown",
   "source": [
    "當我們執行下列搜尋程式碼區塊時，我們會使用相同的文字內嵌內嵌搜尋查詢 「我是否可以取得纜線公司稅額的資訊？」 ，並使用相同的 文字內嵌-ada-002 (第 2 版) 模型。 接下來，我們會從依 余弦相似度排名的查詢中找到與新內嵌文字內嵌最接近的帳單。"
   ],
   "metadata": {
    "collapsed": false
   }
  },
  {
   "cell_type": "code",
   "execution_count": 19,
   "outputs": [
    {
     "data": {
      "text/plain": "      ProductId          UserId  Score                        Summary   \n746  B001SB34RG  A2NM2R0EH3K6C1      5                  won't kid you  \\\n797  B004IN6GVM   A5PFLD64SYXYK      5             The BEST dog candy   \n755  B007TBO6PI  A2W8NAL3R6U8TF      5                     Delicious!   \n383  B005HSSCFK  A3U7W07OLWYCNE      5  One of the best across the US   \n\n                                                  Text   \n746  I won't kid you there is nothing better than a...  \\\n797  This brand of dog treats is by FAR the most lo...   \n755  Love these packs. I have made pretzel dogs, bi...   \n383  I am a BBQ chip fanatic and have tried every c...   \n\n                                              combined   \n746  Title: won't kid you; Content: I won't kid you...  \\\n797  Title: The BEST dog candy; Content: This brand...   \n755  Title: Delicious!; Content: Love these packs. ...   \n383  Title: One of the best across the US; Content:...   \n\n                                         combined_norm  n_tokens   \n746  Title: won't kid you; Content: I won't kid you...       125  \\\n797  Title: The BEST dog candy; Content: This brand...        63   \n755  Title: Delicious!; Content: Love these packs. ...        42   \n383  Title: One of the best across the US; Content:...        94   \n\n                                             embedding  similarities  \n746  [-0.001628590514883399, 0.008710593916475773, ...      0.823522  \n797  [-0.00887732021510601, -0.016540195792913437, ...      0.808917  \n755  [0.0017885540146380663, -0.00704592140391469, ...      0.806070  \n383  [-0.005858675576746464, -0.008477376773953438,...      0.792126  ",
      "text/html": "<div>\n<style scoped>\n    .dataframe tbody tr th:only-of-type {\n        vertical-align: middle;\n    }\n\n    .dataframe tbody tr th {\n        vertical-align: top;\n    }\n\n    .dataframe thead th {\n        text-align: right;\n    }\n</style>\n<table border=\"1\" class=\"dataframe\">\n  <thead>\n    <tr style=\"text-align: right;\">\n      <th></th>\n      <th>ProductId</th>\n      <th>UserId</th>\n      <th>Score</th>\n      <th>Summary</th>\n      <th>Text</th>\n      <th>combined</th>\n      <th>combined_norm</th>\n      <th>n_tokens</th>\n      <th>embedding</th>\n      <th>similarities</th>\n    </tr>\n  </thead>\n  <tbody>\n    <tr>\n      <th>746</th>\n      <td>B001SB34RG</td>\n      <td>A2NM2R0EH3K6C1</td>\n      <td>5</td>\n      <td>won't kid you</td>\n      <td>I won't kid you there is nothing better than a...</td>\n      <td>Title: won't kid you; Content: I won't kid you...</td>\n      <td>Title: won't kid you; Content: I won't kid you...</td>\n      <td>125</td>\n      <td>[-0.001628590514883399, 0.008710593916475773, ...</td>\n      <td>0.823522</td>\n    </tr>\n    <tr>\n      <th>797</th>\n      <td>B004IN6GVM</td>\n      <td>A5PFLD64SYXYK</td>\n      <td>5</td>\n      <td>The BEST dog candy</td>\n      <td>This brand of dog treats is by FAR the most lo...</td>\n      <td>Title: The BEST dog candy; Content: This brand...</td>\n      <td>Title: The BEST dog candy; Content: This brand...</td>\n      <td>63</td>\n      <td>[-0.00887732021510601, -0.016540195792913437, ...</td>\n      <td>0.808917</td>\n    </tr>\n    <tr>\n      <th>755</th>\n      <td>B007TBO6PI</td>\n      <td>A2W8NAL3R6U8TF</td>\n      <td>5</td>\n      <td>Delicious!</td>\n      <td>Love these packs. I have made pretzel dogs, bi...</td>\n      <td>Title: Delicious!; Content: Love these packs. ...</td>\n      <td>Title: Delicious!; Content: Love these packs. ...</td>\n      <td>42</td>\n      <td>[0.0017885540146380663, -0.00704592140391469, ...</td>\n      <td>0.806070</td>\n    </tr>\n    <tr>\n      <th>383</th>\n      <td>B005HSSCFK</td>\n      <td>A3U7W07OLWYCNE</td>\n      <td>5</td>\n      <td>One of the best across the US</td>\n      <td>I am a BBQ chip fanatic and have tried every c...</td>\n      <td>Title: One of the best across the US; Content:...</td>\n      <td>Title: One of the best across the US; Content:...</td>\n      <td>94</td>\n      <td>[-0.005858675576746464, -0.008477376773953438,...</td>\n      <td>0.792126</td>\n    </tr>\n  </tbody>\n</table>\n</div>"
     },
     "metadata": {},
     "output_type": "display_data"
    }
   ],
   "source": [
    "from openai.embeddings_utils import cosine_similarity # search through the reviews for a specific product\n",
    "\n",
    "def search_docs(df, user_query, top_n=3, to_print=True):\n",
    "    embedding = get_embedding(\n",
    "        user_query,\n",
    "        engine=\"text-embedding-ada-002\" # engine should be set to the deployment name you chose when you deployed the text-embedding-ada-002 (Version 2) model\n",
    "    )\n",
    "    df[\"similarities\"] = df.embedding.apply(lambda x: cosine_similarity(x, embedding))\n",
    "\n",
    "    res = (\n",
    "        df.sort_values(\"similarities\", ascending=False)\n",
    "        .head(top_n)\n",
    "    )\n",
    "    if to_print:\n",
    "        display(res)\n",
    "    return res\n",
    "\n",
    "\n",
    "res = search_docs(df, 'Most popular hot dogs', top_n=4)"
   ],
   "metadata": {
    "collapsed": false,
    "ExecuteTime": {
     "start_time": "2023-04-28T17:04:52.388468Z",
     "end_time": "2023-04-28T17:04:53.245601Z"
    }
   }
  },
  {
   "cell_type": "code",
   "execution_count": null,
   "outputs": [],
   "source": [],
   "metadata": {
    "collapsed": false
   }
  }
 ],
 "metadata": {
  "kernelspec": {
   "display_name": "openai",
   "language": "python",
   "name": "python3"
  },
  "language_info": {
   "codemirror_mode": {
    "name": "ipython",
    "version": 3
   },
   "file_extension": ".py",
   "mimetype": "text/x-python",
   "name": "python",
   "nbconvert_exporter": "python",
   "pygments_lexer": "ipython3",
   "version": "3.9.9 (main, Dec  7 2021, 18:04:56) \n[Clang 13.0.0 (clang-1300.0.29.3)]"
  },
  "orig_nbformat": 4,
  "vscode": {
   "interpreter": {
    "hash": "365536dcbde60510dc9073d6b991cd35db2d9bac356a11f5b64279a5e6708b97"
   }
  }
 },
 "nbformat": 4,
 "nbformat_minor": 2
}
